{
  "nbformat": 4,
  "nbformat_minor": 0,
  "metadata": {
    "colab": {
      "provenance": [],
      "authorship_tag": "ABX9TyOmJ4sK/t2MoEPGMhRFk2IB",
      "include_colab_link": true
    },
    "kernelspec": {
      "name": "python3",
      "display_name": "Python 3"
    },
    "language_info": {
      "name": "python"
    }
  },
  "cells": [
    {
      "cell_type": "markdown",
      "metadata": {
        "id": "view-in-github",
        "colab_type": "text"
      },
      "source": [
        "<a href=\"https://colab.research.google.com/github/malihemaboodi/Basic-of-Pandas-for-beginner/blob/main/Basic_of_Pandas.ipynb\" target=\"_parent\"><img src=\"https://colab.research.google.com/assets/colab-badge.svg\" alt=\"Open In Colab\"/></a>"
      ]
    },
    {
      "cell_type": "code",
      "execution_count": 1,
      "metadata": {
        "id": "0vIxAs3w-wHB"
      },
      "outputs": [],
      "source": [
        "import pandas as pd"
      ]
    },
    {
      "cell_type": "code",
      "source": [
        "pd.__version__"
      ],
      "metadata": {
        "colab": {
          "base_uri": "https://localhost:8080/",
          "height": 36
        },
        "id": "vnT8wbTI_obe",
        "outputId": "e6803c3b-b12a-403b-d705-02df8fe75400"
      },
      "execution_count": 2,
      "outputs": [
        {
          "output_type": "execute_result",
          "data": {
            "text/plain": [
              "'2.1.4'"
            ],
            "application/vnd.google.colaboratory.intrinsic+json": {
              "type": "string"
            }
          },
          "metadata": {},
          "execution_count": 2
        }
      ]
    },
    {
      "cell_type": "code",
      "source": [
        "food = ['Pizza', 'Burger', 'Sushi']\n",
        "p_food = pd.Series(food)\n",
        "p_food"
      ],
      "metadata": {
        "colab": {
          "base_uri": "https://localhost:8080/",
          "height": 178
        },
        "id": "tcApdhJyAeAX",
        "outputId": "91dd2634-8ad0-4849-a956-f7b257eaf255"
      },
      "execution_count": 3,
      "outputs": [
        {
          "output_type": "execute_result",
          "data": {
            "text/plain": [
              "0     Pizza\n",
              "1    Burger\n",
              "2     Sushi\n",
              "dtype: object"
            ],
            "text/html": [
              "<div>\n",
              "<style scoped>\n",
              "    .dataframe tbody tr th:only-of-type {\n",
              "        vertical-align: middle;\n",
              "    }\n",
              "\n",
              "    .dataframe tbody tr th {\n",
              "        vertical-align: top;\n",
              "    }\n",
              "\n",
              "    .dataframe thead th {\n",
              "        text-align: right;\n",
              "    }\n",
              "</style>\n",
              "<table border=\"1\" class=\"dataframe\">\n",
              "  <thead>\n",
              "    <tr style=\"text-align: right;\">\n",
              "      <th></th>\n",
              "      <th>0</th>\n",
              "    </tr>\n",
              "  </thead>\n",
              "  <tbody>\n",
              "    <tr>\n",
              "      <th>0</th>\n",
              "      <td>Pizza</td>\n",
              "    </tr>\n",
              "    <tr>\n",
              "      <th>1</th>\n",
              "      <td>Burger</td>\n",
              "    </tr>\n",
              "    <tr>\n",
              "      <th>2</th>\n",
              "      <td>Sushi</td>\n",
              "    </tr>\n",
              "  </tbody>\n",
              "</table>\n",
              "</div><br><label><b>dtype:</b> object</label>"
            ]
          },
          "metadata": {},
          "execution_count": 3
        }
      ]
    },
    {
      "cell_type": "markdown",
      "source": [
        "\n",
        "**Purpose:**\n",
        "This line creates a Python list named food that contains three string elements: 'Pizza', 'Burger', and 'Sushi'.\n",
        "\n",
        "**List:**\n",
        " A list is a collection of items that are ordered and can be modified after being created."
      ],
      "metadata": {
        "id": "0Wu_QPvjCS0S"
      }
    },
    {
      "cell_type": "markdown",
      "source": [
        "The line type(p_food) is used to check the data type of the variable p_food. Since p_food is a Pandas Series, the output of this line will indicate that."
      ],
      "metadata": {
        "id": "XW7XWtfbGjHa"
      }
    },
    {
      "cell_type": "code",
      "source": [
        "p_food[2]"
      ],
      "metadata": {
        "colab": {
          "base_uri": "https://localhost:8080/",
          "height": 36
        },
        "id": "BF34KLCsGrWa",
        "outputId": "de0ca370-cba6-41e5-aa9c-7173067e27a8"
      },
      "execution_count": 4,
      "outputs": [
        {
          "output_type": "execute_result",
          "data": {
            "text/plain": [
              "'Sushi'"
            ],
            "application/vnd.google.colaboratory.intrinsic+json": {
              "type": "string"
            }
          },
          "metadata": {},
          "execution_count": 4
        }
      ]
    },
    {
      "cell_type": "markdown",
      "source": [
        "\n",
        "\n",
        "*   **Pandas Series indexing:** Like Python lists, Pandas Series are zero-indexed, meaning the first element is at index 0, the second at index 1, and so on.\n",
        "*   In this case, p_food[2] will return the value located at index 2 in the p_food Series.\n",
        "\n",
        "Given your initial code where p_food was created from the list\n",
        "['Pizza', 'Burger', 'Sushi'], the element at index 2 is 'Sushi'.\n",
        "\n"
      ],
      "metadata": {
        "id": "sMFrvwY-HEXC"
      }
    },
    {
      "cell_type": "code",
      "source": [
        "food = ['Pizza', 'Burger', None]\n",
        "p_food = pd.Series(food)\n",
        "p_food\n"
      ],
      "metadata": {
        "colab": {
          "base_uri": "https://localhost:8080/",
          "height": 178
        },
        "id": "We1uFHukHzZY",
        "outputId": "7039add4-24f1-487b-f71f-c11a81e56f92"
      },
      "execution_count": 5,
      "outputs": [
        {
          "output_type": "execute_result",
          "data": {
            "text/plain": [
              "0     Pizza\n",
              "1    Burger\n",
              "2      None\n",
              "dtype: object"
            ],
            "text/html": [
              "<div>\n",
              "<style scoped>\n",
              "    .dataframe tbody tr th:only-of-type {\n",
              "        vertical-align: middle;\n",
              "    }\n",
              "\n",
              "    .dataframe tbody tr th {\n",
              "        vertical-align: top;\n",
              "    }\n",
              "\n",
              "    .dataframe thead th {\n",
              "        text-align: right;\n",
              "    }\n",
              "</style>\n",
              "<table border=\"1\" class=\"dataframe\">\n",
              "  <thead>\n",
              "    <tr style=\"text-align: right;\">\n",
              "      <th></th>\n",
              "      <th>0</th>\n",
              "    </tr>\n",
              "  </thead>\n",
              "  <tbody>\n",
              "    <tr>\n",
              "      <th>0</th>\n",
              "      <td>Pizza</td>\n",
              "    </tr>\n",
              "    <tr>\n",
              "      <th>1</th>\n",
              "      <td>Burger</td>\n",
              "    </tr>\n",
              "    <tr>\n",
              "      <th>2</th>\n",
              "      <td>None</td>\n",
              "    </tr>\n",
              "  </tbody>\n",
              "</table>\n",
              "</div><br><label><b>dtype:</b> object</label>"
            ]
          },
          "metadata": {},
          "execution_count": 5
        }
      ]
    },
    {
      "cell_type": "markdown",
      "source": [
        "\n",
        "\n",
        "*   ***Purpose:*** This creates a Python list named food with three elements: 'Pizza', 'Burger', and None.\n",
        "*   ***None:*** In Python, None is a special constant that represents the absence of a value or a null value. It is often used as a placeholder.\n",
        "\n",
        "\n",
        "*   ***Values ('Pizza', 'Burger', NaN):*** 'Pizza' and 'Burger' are regular string values, and None is displayed as NaN, which stands for \"Not a Number\" and is used to represent missing values in Pandas.\n",
        " *   ***dtype:*** object: This indicates that the Series contains object types (strings and NaN).\n",
        "\n",
        "\n",
        "\n"
      ],
      "metadata": {
        "id": "AUQxEvYtJUET"
      }
    },
    {
      "cell_type": "code",
      "source": [
        "food = {\n",
        "    'f1': 'Pizza',\n",
        "    'f2': 'Burger',\n",
        "    'f3': None\n",
        "}\n",
        "p_food = pd.Series(food)\n",
        "p_food"
      ],
      "metadata": {
        "colab": {
          "base_uri": "https://localhost:8080/",
          "height": 178
        },
        "id": "nGJVKKZ-Kft4",
        "outputId": "d9ee9085-e117-4841-e98b-3ebe27496b52"
      },
      "execution_count": 6,
      "outputs": [
        {
          "output_type": "execute_result",
          "data": {
            "text/plain": [
              "f1     Pizza\n",
              "f2    Burger\n",
              "f3      None\n",
              "dtype: object"
            ],
            "text/html": [
              "<div>\n",
              "<style scoped>\n",
              "    .dataframe tbody tr th:only-of-type {\n",
              "        vertical-align: middle;\n",
              "    }\n",
              "\n",
              "    .dataframe tbody tr th {\n",
              "        vertical-align: top;\n",
              "    }\n",
              "\n",
              "    .dataframe thead th {\n",
              "        text-align: right;\n",
              "    }\n",
              "</style>\n",
              "<table border=\"1\" class=\"dataframe\">\n",
              "  <thead>\n",
              "    <tr style=\"text-align: right;\">\n",
              "      <th></th>\n",
              "      <th>0</th>\n",
              "    </tr>\n",
              "  </thead>\n",
              "  <tbody>\n",
              "    <tr>\n",
              "      <th>f1</th>\n",
              "      <td>Pizza</td>\n",
              "    </tr>\n",
              "    <tr>\n",
              "      <th>f2</th>\n",
              "      <td>Burger</td>\n",
              "    </tr>\n",
              "    <tr>\n",
              "      <th>f3</th>\n",
              "      <td>None</td>\n",
              "    </tr>\n",
              "  </tbody>\n",
              "</table>\n",
              "</div><br><label><b>dtype:</b> object</label>"
            ]
          },
          "metadata": {},
          "execution_count": 6
        }
      ]
    },
    {
      "cell_type": "markdown",
      "source": [
        "\n",
        "\n",
        "*   ***Purpose:*** This line creates a Python dictionary called food. The dictionary has three key-value pairs:\n",
        " *   'f1' is the key for the value 'Pizza'.\n",
        "     'f2' is the key for the value 'Burger'.\n",
        "\n",
        "  *   'f2' is the key for the value 'Burger'.\n",
        "  *   'f3' is the key for the value None (which represents a missing value).\n",
        "\n",
        "\n",
        "     \n",
        "\n",
        "*   ***Dictionary:*** A dictionary in Python is a collection of key-value pairs, where each key is unique.\n",
        "\n",
        "\n",
        "\n",
        "\n"
      ],
      "metadata": {
        "id": "eNvk723QK9Yp"
      }
    },
    {
      "cell_type": "code",
      "source": [
        "p_food.index"
      ],
      "metadata": {
        "colab": {
          "base_uri": "https://localhost:8080/"
        },
        "id": "gMQm7z6ULkhK",
        "outputId": "43ff49db-9cb1-454e-e174-83462489c1b6"
      },
      "execution_count": 7,
      "outputs": [
        {
          "output_type": "execute_result",
          "data": {
            "text/plain": [
              "Index(['f1', 'f2', 'f3'], dtype='object')"
            ]
          },
          "metadata": {},
          "execution_count": 7
        }
      ]
    },
    {
      "cell_type": "markdown",
      "source": [
        "## **Explanation of the Output:**\n",
        "\n",
        "\n",
        "*   The output is an Index object that contains the labels ['f1', 'f2', 'f3'], which were originally the keys of the dictionary.\n",
        "*   ***Index Type:*** The data type of the index is object, as the index contains string labels ('f1', 'f2', and 'f3').\n",
        "\n"
      ],
      "metadata": {
        "id": "BUykwqTzMeTJ"
      }
    },
    {
      "cell_type": "code",
      "source": [
        "p_food.values"
      ],
      "metadata": {
        "colab": {
          "base_uri": "https://localhost:8080/"
        },
        "id": "Ee5fOVIoMvW4",
        "outputId": "15b94a77-89d4-428f-e429-a4ab421702ca"
      },
      "execution_count": 8,
      "outputs": [
        {
          "output_type": "execute_result",
          "data": {
            "text/plain": [
              "array(['Pizza', 'Burger', None], dtype=object)"
            ]
          },
          "metadata": {},
          "execution_count": 8
        }
      ]
    },
    {
      "cell_type": "markdown",
      "source": [
        "**p_food.values:** This command retrieves the values of the Pandas Series p_food as a NumPy array. The values are the elements of the Series without the index."
      ],
      "metadata": {
        "id": "QMT--mByRw_W"
      }
    },
    {
      "cell_type": "code",
      "source": [
        "p_food = pd.Series(['Pizza', 'Burger', 'Sushi'], index=['f1', 'f2', 'f3'])\n",
        "p_food\n"
      ],
      "metadata": {
        "colab": {
          "base_uri": "https://localhost:8080/",
          "height": 178
        },
        "id": "-X_vXa4WSD08",
        "outputId": "9679bd9a-4c6c-4799-9d67-9fecf21914b7"
      },
      "execution_count": 9,
      "outputs": [
        {
          "output_type": "execute_result",
          "data": {
            "text/plain": [
              "f1     Pizza\n",
              "f2    Burger\n",
              "f3     Sushi\n",
              "dtype: object"
            ],
            "text/html": [
              "<div>\n",
              "<style scoped>\n",
              "    .dataframe tbody tr th:only-of-type {\n",
              "        vertical-align: middle;\n",
              "    }\n",
              "\n",
              "    .dataframe tbody tr th {\n",
              "        vertical-align: top;\n",
              "    }\n",
              "\n",
              "    .dataframe thead th {\n",
              "        text-align: right;\n",
              "    }\n",
              "</style>\n",
              "<table border=\"1\" class=\"dataframe\">\n",
              "  <thead>\n",
              "    <tr style=\"text-align: right;\">\n",
              "      <th></th>\n",
              "      <th>0</th>\n",
              "    </tr>\n",
              "  </thead>\n",
              "  <tbody>\n",
              "    <tr>\n",
              "      <th>f1</th>\n",
              "      <td>Pizza</td>\n",
              "    </tr>\n",
              "    <tr>\n",
              "      <th>f2</th>\n",
              "      <td>Burger</td>\n",
              "    </tr>\n",
              "    <tr>\n",
              "      <th>f3</th>\n",
              "      <td>Sushi</td>\n",
              "    </tr>\n",
              "  </tbody>\n",
              "</table>\n",
              "</div><br><label><b>dtype:</b> object</label>"
            ]
          },
          "metadata": {},
          "execution_count": 9
        }
      ]
    },
    {
      "cell_type": "markdown",
      "source": [
        "\n",
        "\n",
        "*   **pd.Series(['Pizza', 'Burger', 'Sushi'], index=['f1', 'f2', 'f3']):**\n",
        "\n",
        " *    This creates a Pandas Series from a list of food items ['Pizza', 'Burger', 'Sushi'].\n",
        " *   You are explicitly defining the index for each value using the list ['f1', 'f2', 'f3'].\n",
        " *   The resulting Series will associate 'Pizza' with the index 'f1', 'Burger' with 'f2', and 'Sushi' with 'f3'.\n",
        "\n",
        "\n",
        "\n",
        "\n",
        "\n",
        "\n",
        "\n"
      ],
      "metadata": {
        "id": "71SjfAN-TSIF"
      }
    },
    {
      "cell_type": "code",
      "source": [
        "p_food['f1']\n"
      ],
      "metadata": {
        "colab": {
          "base_uri": "https://localhost:8080/",
          "height": 36
        },
        "id": "odHch6ZlUFqT",
        "outputId": "ff920f11-8a90-41cc-aa24-02beecc12315"
      },
      "execution_count": 10,
      "outputs": [
        {
          "output_type": "execute_result",
          "data": {
            "text/plain": [
              "'Pizza'"
            ],
            "application/vnd.google.colaboratory.intrinsic+json": {
              "type": "string"
            }
          },
          "metadata": {},
          "execution_count": 10
        }
      ]
    },
    {
      "cell_type": "markdown",
      "source": [
        "## **Explanation of the Output:**\n",
        "\n",
        "\n",
        "*   The value associated with index 'f1' in the p_food Series is 'Pizza'.\n",
        "\n",
        "\n"
      ],
      "metadata": {
        "id": "Dc8JeXKgUXBV"
      }
    },
    {
      "cell_type": "code",
      "source": [
        "p_food.iloc[2]\n"
      ],
      "metadata": {
        "colab": {
          "base_uri": "https://localhost:8080/",
          "height": 36
        },
        "id": "51EW7yDZUgGU",
        "outputId": "e8cd96fb-5eeb-49d9-d200-f78100dd0402"
      },
      "execution_count": 11,
      "outputs": [
        {
          "output_type": "execute_result",
          "data": {
            "text/plain": [
              "'Sushi'"
            ],
            "application/vnd.google.colaboratory.intrinsic+json": {
              "type": "string"
            }
          },
          "metadata": {},
          "execution_count": 11
        }
      ]
    },
    {
      "cell_type": "markdown",
      "source": [
        "## **Explanation:**\n",
        "\n",
        "\n",
        "*   **p_food.iloc[2]:** The .iloc[] function is used to access a value by its **positional index** (i.e., the position in the Series, regardless of the custom labels).\n",
        "*   In this case, p_food.iloc[2] is accessing the element at position 2 (third position, since indexing starts from 0).\n",
        "\n",
        "In the food example, the **p_food** Series was created from the list **['Pizza', 'Burger', 'Sushi']**, with positional indices 0, 1, and 2. So, position **2** corresponds to the value **'Sushi'**.\n",
        "\n",
        "\n",
        "\n",
        "\n",
        "\n",
        "\n",
        "\n"
      ],
      "metadata": {
        "id": "HoC4IX-uVwK6"
      }
    },
    {
      "cell_type": "code",
      "source": [
        "p_food.loc['f1']"
      ],
      "metadata": {
        "colab": {
          "base_uri": "https://localhost:8080/",
          "height": 36
        },
        "id": "0pO0YAQvZMY3",
        "outputId": "efd87f55-a046-417e-df5c-268670e84156"
      },
      "execution_count": 12,
      "outputs": [
        {
          "output_type": "execute_result",
          "data": {
            "text/plain": [
              "'Pizza'"
            ],
            "application/vnd.google.colaboratory.intrinsic+json": {
              "type": "string"
            }
          },
          "metadata": {},
          "execution_count": 12
        }
      ]
    },
    {
      "cell_type": "markdown",
      "source": [
        "## **Explanation:**\n",
        "\n",
        "\n",
        "*   **p_food.loc[ 'f1' ]:** The **.loc[ ]** function is used to access a value by its **label** (the custom index, not the positional index).\n",
        "\n",
        "*   In the \"food\" example, the Series **p_food** was created with custom indices **['f1', 'f2', 'f3']**. So, **.loc['f1']** retrieves the value associated with the label **'f1'** which corresponds to the value **'Pizza'**.\n",
        "\n"
      ],
      "metadata": {
        "id": "yMA5ZdOsdB7L"
      }
    },
    {
      "cell_type": "code",
      "source": [
        "for item in p_food:\n",
        "    print('Delicious ' + str(item))\n"
      ],
      "metadata": {
        "colab": {
          "base_uri": "https://localhost:8080/"
        },
        "id": "Dw6S_oWweMXB",
        "outputId": "05f8e2f8-507f-47bd-d958-49c4bde56cda"
      },
      "execution_count": 13,
      "outputs": [
        {
          "output_type": "stream",
          "name": "stdout",
          "text": [
            "Delicious Pizza\n",
            "Delicious Burger\n",
            "Delicious Sushi\n"
          ]
        }
      ]
    },
    {
      "cell_type": "markdown",
      "source": [
        "## **Explanation:**\n",
        "\n",
        "\n",
        "*   **For Loop:** The loop iterates over each item in the **p_food** Pandas Series.\n",
        "\n",
        "*   **print('Delicious ' + str(item)):** For each item, it prints the string **'Delicious '** followed by the item (converted to a string using **str(item)**).\n",
        "\n"
      ],
      "metadata": {
        "id": "Lnz6pZgqiLJB"
      }
    },
    {
      "cell_type": "code",
      "source": [
        "import numpy as np\n"
      ],
      "metadata": {
        "id": "qIWDAlu6i4tm"
      },
      "execution_count": 14,
      "outputs": []
    },
    {
      "cell_type": "code",
      "source": [
        "food_prices = [12.5, 8.0, 15.3]\n",
        "p_food_prices = pd.Series(food_prices)\n",
        "np.sum(p_food_prices)\n"
      ],
      "metadata": {
        "colab": {
          "base_uri": "https://localhost:8080/"
        },
        "id": "sZcL1_D9jfKO",
        "outputId": "514610b3-ef9a-477c-c47c-45ccb119fd3c"
      },
      "execution_count": 26,
      "outputs": [
        {
          "output_type": "execute_result",
          "data": {
            "text/plain": [
              "35.8"
            ]
          },
          "metadata": {},
          "execution_count": 26
        }
      ]
    },
    {
      "cell_type": "markdown",
      "source": [
        "\n",
        "\n",
        "* This line creates a list named **food_prices** that contains three numerical values representing the prices of different food items.\n",
        "\n",
        "*   **pd.Series(food_prices):** This converts the list **food_prices** into a Pandas Series. The Series contains the same numerical values **[12.5, 8.0, 15.3]** but now with default indexing (0, 1, 2).\n",
        "\n",
        "\n",
        "\n",
        "*   **np.sum():** This function, from the NumPy library, calculates the sum of all the values in the **p_food_prices** Series.\n",
        "\n",
        "\n",
        "*   It will add **12.5 + 8.0 + 15.3.**\n",
        "\n",
        "\n",
        "\n",
        "\n",
        "\n",
        "\n"
      ],
      "metadata": {
        "id": "T7CmdFwfjhQu"
      }
    },
    {
      "cell_type": "code",
      "source": [
        "food = [12.5, 8.0, 'Burger']\n",
        "p_food = pd.Series(food)\n",
        "p_food\n"
      ],
      "metadata": {
        "colab": {
          "base_uri": "https://localhost:8080/",
          "height": 178
        },
        "id": "IS4DNTt4kcD5",
        "outputId": "8bc852b1-e255-4440-a70c-2438bade4e08"
      },
      "execution_count": 15,
      "outputs": [
        {
          "output_type": "execute_result",
          "data": {
            "text/plain": [
              "0      12.5\n",
              "1       8.0\n",
              "2    Burger\n",
              "dtype: object"
            ],
            "text/html": [
              "<div>\n",
              "<style scoped>\n",
              "    .dataframe tbody tr th:only-of-type {\n",
              "        vertical-align: middle;\n",
              "    }\n",
              "\n",
              "    .dataframe tbody tr th {\n",
              "        vertical-align: top;\n",
              "    }\n",
              "\n",
              "    .dataframe thead th {\n",
              "        text-align: right;\n",
              "    }\n",
              "</style>\n",
              "<table border=\"1\" class=\"dataframe\">\n",
              "  <thead>\n",
              "    <tr style=\"text-align: right;\">\n",
              "      <th></th>\n",
              "      <th>0</th>\n",
              "    </tr>\n",
              "  </thead>\n",
              "  <tbody>\n",
              "    <tr>\n",
              "      <th>0</th>\n",
              "      <td>12.5</td>\n",
              "    </tr>\n",
              "    <tr>\n",
              "      <th>1</th>\n",
              "      <td>8.0</td>\n",
              "    </tr>\n",
              "    <tr>\n",
              "      <th>2</th>\n",
              "      <td>Burger</td>\n",
              "    </tr>\n",
              "  </tbody>\n",
              "</table>\n",
              "</div><br><label><b>dtype:</b> object</label>"
            ]
          },
          "metadata": {},
          "execution_count": 15
        }
      ]
    },
    {
      "cell_type": "markdown",
      "source": [
        "\n",
        "\n",
        "*   This line creates a list named food that contains two numerical values **(12.5, 8.0)** and a string **('Burger')**.\n",
        "\n",
        "*   Mixing data types in the same list (numbers and strings) is allowed in Python lists.\n",
        "\n",
        "\n",
        "*   **dtype: object:** Since the Series contains mixed data types (both numbers and a string), Pandas automatically sets the data type of the Series to **object.**\n",
        "\n",
        "\n",
        "\n",
        "\n"
      ],
      "metadata": {
        "id": "E01o9ai1l6oI"
      }
    },
    {
      "cell_type": "code",
      "source": [
        "for index, item in p_food.items():\n",
        "    print('Delicious ' + str(item) + ' ... index is ' + str(index))\n"
      ],
      "metadata": {
        "colab": {
          "base_uri": "https://localhost:8080/"
        },
        "id": "8EXhzrBOmyrs",
        "outputId": "7c4f01b3-add6-4ca7-80bf-68e569b705bf"
      },
      "execution_count": 16,
      "outputs": [
        {
          "output_type": "stream",
          "name": "stdout",
          "text": [
            "Delicious 12.5 ... index is 0\n",
            "Delicious 8.0 ... index is 1\n",
            "Delicious Burger ... index is 2\n"
          ]
        }
      ]
    },
    {
      "cell_type": "markdown",
      "source": [
        "**p_food.items():** This method returns an iterator that yields pairs of (index, value), allowing you to loop through both the indices and the values in the Series."
      ],
      "metadata": {
        "id": "9Oj85Ay1Fsws"
      }
    },
    {
      "cell_type": "code",
      "source": [
        "# First dictionary for food\n",
        "food = {\n",
        "    'f1': 'Pizza',\n",
        "    'f2': 'Burger',\n",
        "    'f3': 'Sushi'\n",
        "}\n",
        "p_food = pd.Series(food)\n",
        "\n",
        "# Second dictionary for food\n",
        "food = {\n",
        "    'f1': 'Pizza2',\n",
        "    'f2': 'Burger2',\n",
        "    'f3': 'Sushi2'\n",
        "}\n",
        "p_food2 = pd.Series(food)\n",
        "\n",
        "# Third dictionary for food\n",
        "food = {\n",
        "    'f1': 'Pizza3',\n",
        "    'f2': 'Burger3',\n",
        "    'f3': 'Sushi3'\n",
        "}\n",
        "p_food3 = pd.Series(food)\n",
        "\n",
        "# Creating a DataFrame from the three Series\n",
        "df = pd.DataFrame([p_food, p_food2, p_food3], index=['r1', 'r2', 'r3'])\n",
        "df\n"
      ],
      "metadata": {
        "colab": {
          "base_uri": "https://localhost:8080/",
          "height": 143
        },
        "id": "mP6dMJpdF00D",
        "outputId": "60de912f-3db5-43ee-feb7-84fab570d855"
      },
      "execution_count": 17,
      "outputs": [
        {
          "output_type": "execute_result",
          "data": {
            "text/plain": [
              "        f1       f2      f3\n",
              "r1   Pizza   Burger   Sushi\n",
              "r2  Pizza2  Burger2  Sushi2\n",
              "r3  Pizza3  Burger3  Sushi3"
            ],
            "text/html": [
              "\n",
              "  <div id=\"df-0390feb6-a857-422d-a0b3-98ff207afa38\" class=\"colab-df-container\">\n",
              "    <div>\n",
              "<style scoped>\n",
              "    .dataframe tbody tr th:only-of-type {\n",
              "        vertical-align: middle;\n",
              "    }\n",
              "\n",
              "    .dataframe tbody tr th {\n",
              "        vertical-align: top;\n",
              "    }\n",
              "\n",
              "    .dataframe thead th {\n",
              "        text-align: right;\n",
              "    }\n",
              "</style>\n",
              "<table border=\"1\" class=\"dataframe\">\n",
              "  <thead>\n",
              "    <tr style=\"text-align: right;\">\n",
              "      <th></th>\n",
              "      <th>f1</th>\n",
              "      <th>f2</th>\n",
              "      <th>f3</th>\n",
              "    </tr>\n",
              "  </thead>\n",
              "  <tbody>\n",
              "    <tr>\n",
              "      <th>r1</th>\n",
              "      <td>Pizza</td>\n",
              "      <td>Burger</td>\n",
              "      <td>Sushi</td>\n",
              "    </tr>\n",
              "    <tr>\n",
              "      <th>r2</th>\n",
              "      <td>Pizza2</td>\n",
              "      <td>Burger2</td>\n",
              "      <td>Sushi2</td>\n",
              "    </tr>\n",
              "    <tr>\n",
              "      <th>r3</th>\n",
              "      <td>Pizza3</td>\n",
              "      <td>Burger3</td>\n",
              "      <td>Sushi3</td>\n",
              "    </tr>\n",
              "  </tbody>\n",
              "</table>\n",
              "</div>\n",
              "    <div class=\"colab-df-buttons\">\n",
              "\n",
              "  <div class=\"colab-df-container\">\n",
              "    <button class=\"colab-df-convert\" onclick=\"convertToInteractive('df-0390feb6-a857-422d-a0b3-98ff207afa38')\"\n",
              "            title=\"Convert this dataframe to an interactive table.\"\n",
              "            style=\"display:none;\">\n",
              "\n",
              "  <svg xmlns=\"http://www.w3.org/2000/svg\" height=\"24px\" viewBox=\"0 -960 960 960\">\n",
              "    <path d=\"M120-120v-720h720v720H120Zm60-500h600v-160H180v160Zm220 220h160v-160H400v160Zm0 220h160v-160H400v160ZM180-400h160v-160H180v160Zm440 0h160v-160H620v160ZM180-180h160v-160H180v160Zm440 0h160v-160H620v160Z\"/>\n",
              "  </svg>\n",
              "    </button>\n",
              "\n",
              "  <style>\n",
              "    .colab-df-container {\n",
              "      display:flex;\n",
              "      gap: 12px;\n",
              "    }\n",
              "\n",
              "    .colab-df-convert {\n",
              "      background-color: #E8F0FE;\n",
              "      border: none;\n",
              "      border-radius: 50%;\n",
              "      cursor: pointer;\n",
              "      display: none;\n",
              "      fill: #1967D2;\n",
              "      height: 32px;\n",
              "      padding: 0 0 0 0;\n",
              "      width: 32px;\n",
              "    }\n",
              "\n",
              "    .colab-df-convert:hover {\n",
              "      background-color: #E2EBFA;\n",
              "      box-shadow: 0px 1px 2px rgba(60, 64, 67, 0.3), 0px 1px 3px 1px rgba(60, 64, 67, 0.15);\n",
              "      fill: #174EA6;\n",
              "    }\n",
              "\n",
              "    .colab-df-buttons div {\n",
              "      margin-bottom: 4px;\n",
              "    }\n",
              "\n",
              "    [theme=dark] .colab-df-convert {\n",
              "      background-color: #3B4455;\n",
              "      fill: #D2E3FC;\n",
              "    }\n",
              "\n",
              "    [theme=dark] .colab-df-convert:hover {\n",
              "      background-color: #434B5C;\n",
              "      box-shadow: 0px 1px 3px 1px rgba(0, 0, 0, 0.15);\n",
              "      filter: drop-shadow(0px 1px 2px rgba(0, 0, 0, 0.3));\n",
              "      fill: #FFFFFF;\n",
              "    }\n",
              "  </style>\n",
              "\n",
              "    <script>\n",
              "      const buttonEl =\n",
              "        document.querySelector('#df-0390feb6-a857-422d-a0b3-98ff207afa38 button.colab-df-convert');\n",
              "      buttonEl.style.display =\n",
              "        google.colab.kernel.accessAllowed ? 'block' : 'none';\n",
              "\n",
              "      async function convertToInteractive(key) {\n",
              "        const element = document.querySelector('#df-0390feb6-a857-422d-a0b3-98ff207afa38');\n",
              "        const dataTable =\n",
              "          await google.colab.kernel.invokeFunction('convertToInteractive',\n",
              "                                                    [key], {});\n",
              "        if (!dataTable) return;\n",
              "\n",
              "        const docLinkHtml = 'Like what you see? Visit the ' +\n",
              "          '<a target=\"_blank\" href=https://colab.research.google.com/notebooks/data_table.ipynb>data table notebook</a>'\n",
              "          + ' to learn more about interactive tables.';\n",
              "        element.innerHTML = '';\n",
              "        dataTable['output_type'] = 'display_data';\n",
              "        await google.colab.output.renderOutput(dataTable, element);\n",
              "        const docLink = document.createElement('div');\n",
              "        docLink.innerHTML = docLinkHtml;\n",
              "        element.appendChild(docLink);\n",
              "      }\n",
              "    </script>\n",
              "  </div>\n",
              "\n",
              "\n",
              "<div id=\"df-4f32daff-525d-4a89-aff8-022287a82e5c\">\n",
              "  <button class=\"colab-df-quickchart\" onclick=\"quickchart('df-4f32daff-525d-4a89-aff8-022287a82e5c')\"\n",
              "            title=\"Suggest charts\"\n",
              "            style=\"display:none;\">\n",
              "\n",
              "<svg xmlns=\"http://www.w3.org/2000/svg\" height=\"24px\"viewBox=\"0 0 24 24\"\n",
              "     width=\"24px\">\n",
              "    <g>\n",
              "        <path d=\"M19 3H5c-1.1 0-2 .9-2 2v14c0 1.1.9 2 2 2h14c1.1 0 2-.9 2-2V5c0-1.1-.9-2-2-2zM9 17H7v-7h2v7zm4 0h-2V7h2v10zm4 0h-2v-4h2v4z\"/>\n",
              "    </g>\n",
              "</svg>\n",
              "  </button>\n",
              "\n",
              "<style>\n",
              "  .colab-df-quickchart {\n",
              "      --bg-color: #E8F0FE;\n",
              "      --fill-color: #1967D2;\n",
              "      --hover-bg-color: #E2EBFA;\n",
              "      --hover-fill-color: #174EA6;\n",
              "      --disabled-fill-color: #AAA;\n",
              "      --disabled-bg-color: #DDD;\n",
              "  }\n",
              "\n",
              "  [theme=dark] .colab-df-quickchart {\n",
              "      --bg-color: #3B4455;\n",
              "      --fill-color: #D2E3FC;\n",
              "      --hover-bg-color: #434B5C;\n",
              "      --hover-fill-color: #FFFFFF;\n",
              "      --disabled-bg-color: #3B4455;\n",
              "      --disabled-fill-color: #666;\n",
              "  }\n",
              "\n",
              "  .colab-df-quickchart {\n",
              "    background-color: var(--bg-color);\n",
              "    border: none;\n",
              "    border-radius: 50%;\n",
              "    cursor: pointer;\n",
              "    display: none;\n",
              "    fill: var(--fill-color);\n",
              "    height: 32px;\n",
              "    padding: 0;\n",
              "    width: 32px;\n",
              "  }\n",
              "\n",
              "  .colab-df-quickchart:hover {\n",
              "    background-color: var(--hover-bg-color);\n",
              "    box-shadow: 0 1px 2px rgba(60, 64, 67, 0.3), 0 1px 3px 1px rgba(60, 64, 67, 0.15);\n",
              "    fill: var(--button-hover-fill-color);\n",
              "  }\n",
              "\n",
              "  .colab-df-quickchart-complete:disabled,\n",
              "  .colab-df-quickchart-complete:disabled:hover {\n",
              "    background-color: var(--disabled-bg-color);\n",
              "    fill: var(--disabled-fill-color);\n",
              "    box-shadow: none;\n",
              "  }\n",
              "\n",
              "  .colab-df-spinner {\n",
              "    border: 2px solid var(--fill-color);\n",
              "    border-color: transparent;\n",
              "    border-bottom-color: var(--fill-color);\n",
              "    animation:\n",
              "      spin 1s steps(1) infinite;\n",
              "  }\n",
              "\n",
              "  @keyframes spin {\n",
              "    0% {\n",
              "      border-color: transparent;\n",
              "      border-bottom-color: var(--fill-color);\n",
              "      border-left-color: var(--fill-color);\n",
              "    }\n",
              "    20% {\n",
              "      border-color: transparent;\n",
              "      border-left-color: var(--fill-color);\n",
              "      border-top-color: var(--fill-color);\n",
              "    }\n",
              "    30% {\n",
              "      border-color: transparent;\n",
              "      border-left-color: var(--fill-color);\n",
              "      border-top-color: var(--fill-color);\n",
              "      border-right-color: var(--fill-color);\n",
              "    }\n",
              "    40% {\n",
              "      border-color: transparent;\n",
              "      border-right-color: var(--fill-color);\n",
              "      border-top-color: var(--fill-color);\n",
              "    }\n",
              "    60% {\n",
              "      border-color: transparent;\n",
              "      border-right-color: var(--fill-color);\n",
              "    }\n",
              "    80% {\n",
              "      border-color: transparent;\n",
              "      border-right-color: var(--fill-color);\n",
              "      border-bottom-color: var(--fill-color);\n",
              "    }\n",
              "    90% {\n",
              "      border-color: transparent;\n",
              "      border-bottom-color: var(--fill-color);\n",
              "    }\n",
              "  }\n",
              "</style>\n",
              "\n",
              "  <script>\n",
              "    async function quickchart(key) {\n",
              "      const quickchartButtonEl =\n",
              "        document.querySelector('#' + key + ' button');\n",
              "      quickchartButtonEl.disabled = true;  // To prevent multiple clicks.\n",
              "      quickchartButtonEl.classList.add('colab-df-spinner');\n",
              "      try {\n",
              "        const charts = await google.colab.kernel.invokeFunction(\n",
              "            'suggestCharts', [key], {});\n",
              "      } catch (error) {\n",
              "        console.error('Error during call to suggestCharts:', error);\n",
              "      }\n",
              "      quickchartButtonEl.classList.remove('colab-df-spinner');\n",
              "      quickchartButtonEl.classList.add('colab-df-quickchart-complete');\n",
              "    }\n",
              "    (() => {\n",
              "      let quickchartButtonEl =\n",
              "        document.querySelector('#df-4f32daff-525d-4a89-aff8-022287a82e5c button');\n",
              "      quickchartButtonEl.style.display =\n",
              "        google.colab.kernel.accessAllowed ? 'block' : 'none';\n",
              "    })();\n",
              "  </script>\n",
              "</div>\n",
              "\n",
              "  <div id=\"id_3a2261d7-9e2f-4f96-9782-602946dea50f\">\n",
              "    <style>\n",
              "      .colab-df-generate {\n",
              "        background-color: #E8F0FE;\n",
              "        border: none;\n",
              "        border-radius: 50%;\n",
              "        cursor: pointer;\n",
              "        display: none;\n",
              "        fill: #1967D2;\n",
              "        height: 32px;\n",
              "        padding: 0 0 0 0;\n",
              "        width: 32px;\n",
              "      }\n",
              "\n",
              "      .colab-df-generate:hover {\n",
              "        background-color: #E2EBFA;\n",
              "        box-shadow: 0px 1px 2px rgba(60, 64, 67, 0.3), 0px 1px 3px 1px rgba(60, 64, 67, 0.15);\n",
              "        fill: #174EA6;\n",
              "      }\n",
              "\n",
              "      [theme=dark] .colab-df-generate {\n",
              "        background-color: #3B4455;\n",
              "        fill: #D2E3FC;\n",
              "      }\n",
              "\n",
              "      [theme=dark] .colab-df-generate:hover {\n",
              "        background-color: #434B5C;\n",
              "        box-shadow: 0px 1px 3px 1px rgba(0, 0, 0, 0.15);\n",
              "        filter: drop-shadow(0px 1px 2px rgba(0, 0, 0, 0.3));\n",
              "        fill: #FFFFFF;\n",
              "      }\n",
              "    </style>\n",
              "    <button class=\"colab-df-generate\" onclick=\"generateWithVariable('df')\"\n",
              "            title=\"Generate code using this dataframe.\"\n",
              "            style=\"display:none;\">\n",
              "\n",
              "  <svg xmlns=\"http://www.w3.org/2000/svg\" height=\"24px\"viewBox=\"0 0 24 24\"\n",
              "       width=\"24px\">\n",
              "    <path d=\"M7,19H8.4L18.45,9,17,7.55,7,17.6ZM5,21V16.75L18.45,3.32a2,2,0,0,1,2.83,0l1.4,1.43a1.91,1.91,0,0,1,.58,1.4,1.91,1.91,0,0,1-.58,1.4L9.25,21ZM18.45,9,17,7.55Zm-12,3A5.31,5.31,0,0,0,4.9,8.1,5.31,5.31,0,0,0,1,6.5,5.31,5.31,0,0,0,4.9,4.9,5.31,5.31,0,0,0,6.5,1,5.31,5.31,0,0,0,8.1,4.9,5.31,5.31,0,0,0,12,6.5,5.46,5.46,0,0,0,6.5,12Z\"/>\n",
              "  </svg>\n",
              "    </button>\n",
              "    <script>\n",
              "      (() => {\n",
              "      const buttonEl =\n",
              "        document.querySelector('#id_3a2261d7-9e2f-4f96-9782-602946dea50f button.colab-df-generate');\n",
              "      buttonEl.style.display =\n",
              "        google.colab.kernel.accessAllowed ? 'block' : 'none';\n",
              "\n",
              "      buttonEl.onclick = () => {\n",
              "        google.colab.notebook.generateWithVariable('df');\n",
              "      }\n",
              "      })();\n",
              "    </script>\n",
              "  </div>\n",
              "\n",
              "    </div>\n",
              "  </div>\n"
            ],
            "application/vnd.google.colaboratory.intrinsic+json": {
              "type": "dataframe",
              "variable_name": "df",
              "summary": "{\n  \"name\": \"df\",\n  \"rows\": 3,\n  \"fields\": [\n    {\n      \"column\": \"f1\",\n      \"properties\": {\n        \"dtype\": \"string\",\n        \"num_unique_values\": 3,\n        \"samples\": [\n          \"Pizza\",\n          \"Pizza2\",\n          \"Pizza3\"\n        ],\n        \"semantic_type\": \"\",\n        \"description\": \"\"\n      }\n    },\n    {\n      \"column\": \"f2\",\n      \"properties\": {\n        \"dtype\": \"string\",\n        \"num_unique_values\": 3,\n        \"samples\": [\n          \"Burger\",\n          \"Burger2\",\n          \"Burger3\"\n        ],\n        \"semantic_type\": \"\",\n        \"description\": \"\"\n      }\n    },\n    {\n      \"column\": \"f3\",\n      \"properties\": {\n        \"dtype\": \"string\",\n        \"num_unique_values\": 3,\n        \"samples\": [\n          \"Sushi\",\n          \"Sushi2\",\n          \"Sushi3\"\n        ],\n        \"semantic_type\": \"\",\n        \"description\": \"\"\n      }\n    }\n  ]\n}"
            }
          },
          "metadata": {},
          "execution_count": 17
        }
      ]
    },
    {
      "cell_type": "markdown",
      "source": [
        "## **Explanation:**\n",
        "\n",
        "\n",
        "*    A Pandas DataFrame **df** is created by combining the three Series **(p_food, p_food2, p_food3)** into rows. The **index=['r1', 'r2', 'r3']** parameter gives the rows custom labels **'r1', 'r2'**, and **'r3'**\n",
        "## **Explanation of the Output:**\n",
        "*   **Rows (r1, r2, r3):** Each row corresponds to one of the Series **(p_food, p_food2, p_food3).**\n",
        "\n",
        "\n",
        "*  **Columns (f1, f2, f3):** These columns represent the keys of the dictionaries **('f1', 'f2', 'f3')**, corresponding to different food items.\n",
        "\n",
        "*   **Values:** Each row contains the corresponding values from the Series, like **'Pizza', 'Burger', and 'Sushi'**.\n",
        "\n",
        "\n",
        "\n",
        "\n"
      ],
      "metadata": {
        "id": "0Um0qVwMGJ9t"
      }
    },
    {
      "cell_type": "code",
      "source": [
        "df.loc['r2']"
      ],
      "metadata": {
        "colab": {
          "base_uri": "https://localhost:8080/",
          "height": 178
        },
        "id": "6sVMZNZWHXOJ",
        "outputId": "a761204e-43f7-4425-c959-d6e62e660f39"
      },
      "execution_count": 18,
      "outputs": [
        {
          "output_type": "execute_result",
          "data": {
            "text/plain": [
              "f1     Pizza2\n",
              "f2    Burger2\n",
              "f3     Sushi2\n",
              "Name: r2, dtype: object"
            ],
            "text/html": [
              "<div>\n",
              "<style scoped>\n",
              "    .dataframe tbody tr th:only-of-type {\n",
              "        vertical-align: middle;\n",
              "    }\n",
              "\n",
              "    .dataframe tbody tr th {\n",
              "        vertical-align: top;\n",
              "    }\n",
              "\n",
              "    .dataframe thead th {\n",
              "        text-align: right;\n",
              "    }\n",
              "</style>\n",
              "<table border=\"1\" class=\"dataframe\">\n",
              "  <thead>\n",
              "    <tr style=\"text-align: right;\">\n",
              "      <th></th>\n",
              "      <th>r2</th>\n",
              "    </tr>\n",
              "  </thead>\n",
              "  <tbody>\n",
              "    <tr>\n",
              "      <th>f1</th>\n",
              "      <td>Pizza2</td>\n",
              "    </tr>\n",
              "    <tr>\n",
              "      <th>f2</th>\n",
              "      <td>Burger2</td>\n",
              "    </tr>\n",
              "    <tr>\n",
              "      <th>f3</th>\n",
              "      <td>Sushi2</td>\n",
              "    </tr>\n",
              "  </tbody>\n",
              "</table>\n",
              "</div><br><label><b>dtype:</b> object</label>"
            ]
          },
          "metadata": {},
          "execution_count": 18
        }
      ]
    },
    {
      "cell_type": "markdown",
      "source": [
        "**df.loc['r2']:** The .loc[] function is used to access rows or columns by labels in a Pandas DataFrame. In this case, 'r2' is the label for the second row in the DataFrame.\n",
        "\n",
        "## **Explanation of the Output:**\n",
        "\n",
        "\n",
        "*  **Row r2**: This returns the entire second row **(r2)** of the DataFrame.\n",
        "\n",
        "*   **Values:** The values in this row correspond to the second set of data: **'Pizza2', 'Burger2', and 'Sushi2'.**\n",
        "\n"
      ],
      "metadata": {
        "id": "1MUM4BLYH2xv"
      }
    },
    {
      "cell_type": "code",
      "source": [],
      "metadata": {
        "id": "bUX9ut2rImfD"
      },
      "execution_count": null,
      "outputs": []
    }
  ]
}