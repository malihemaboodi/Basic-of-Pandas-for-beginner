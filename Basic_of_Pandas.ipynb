{
  "nbformat": 4,
  "nbformat_minor": 0,
  "metadata": {
    "colab": {
      "provenance": [],
      "authorship_tag": "ABX9TyOMInOgUwRnnELibltfdvFk",
      "include_colab_link": true
    },
    "kernelspec": {
      "name": "python3",
      "display_name": "Python 3"
    },
    "language_info": {
      "name": "python"
    }
  },
  "cells": [
    {
      "cell_type": "markdown",
      "metadata": {
        "id": "view-in-github",
        "colab_type": "text"
      },
      "source": [
        "<a href=\"https://colab.research.google.com/github/malihemaboodi/Basic-of-Pandas-for-beginner/blob/main/Basic_of_Pandas.ipynb\" target=\"_parent\"><img src=\"https://colab.research.google.com/assets/colab-badge.svg\" alt=\"Open In Colab\"/></a>"
      ]
    },
    {
      "cell_type": "code",
      "execution_count": 1,
      "metadata": {
        "id": "0vIxAs3w-wHB"
      },
      "outputs": [],
      "source": [
        "import pandas as pd"
      ]
    },
    {
      "cell_type": "code",
      "source": [
        "pd.__version__"
      ],
      "metadata": {
        "colab": {
          "base_uri": "https://localhost:8080/",
          "height": 36
        },
        "id": "vnT8wbTI_obe",
        "outputId": "f4116c13-8dc0-4644-c3d5-89b5043475a9"
      },
      "execution_count": 2,
      "outputs": [
        {
          "output_type": "execute_result",
          "data": {
            "text/plain": [
              "'2.1.4'"
            ],
            "application/vnd.google.colaboratory.intrinsic+json": {
              "type": "string"
            }
          },
          "metadata": {},
          "execution_count": 2
        }
      ]
    },
    {
      "cell_type": "code",
      "source": [
        "food = ['Pizza', 'Burger', 'Sushi']\n",
        "p_food = pd.Series(food)\n",
        "p_food"
      ],
      "metadata": {
        "colab": {
          "base_uri": "https://localhost:8080/",
          "height": 178
        },
        "id": "tcApdhJyAeAX",
        "outputId": "40f04b68-17cb-4630-9460-d8d630cfee1b"
      },
      "execution_count": 10,
      "outputs": [
        {
          "output_type": "execute_result",
          "data": {
            "text/plain": [
              "0     Pizza\n",
              "1    Burger\n",
              "2     Sushi\n",
              "dtype: object"
            ],
            "text/html": [
              "<div>\n",
              "<style scoped>\n",
              "    .dataframe tbody tr th:only-of-type {\n",
              "        vertical-align: middle;\n",
              "    }\n",
              "\n",
              "    .dataframe tbody tr th {\n",
              "        vertical-align: top;\n",
              "    }\n",
              "\n",
              "    .dataframe thead th {\n",
              "        text-align: right;\n",
              "    }\n",
              "</style>\n",
              "<table border=\"1\" class=\"dataframe\">\n",
              "  <thead>\n",
              "    <tr style=\"text-align: right;\">\n",
              "      <th></th>\n",
              "      <th>0</th>\n",
              "    </tr>\n",
              "  </thead>\n",
              "  <tbody>\n",
              "    <tr>\n",
              "      <th>0</th>\n",
              "      <td>Pizza</td>\n",
              "    </tr>\n",
              "    <tr>\n",
              "      <th>1</th>\n",
              "      <td>Burger</td>\n",
              "    </tr>\n",
              "    <tr>\n",
              "      <th>2</th>\n",
              "      <td>Sushi</td>\n",
              "    </tr>\n",
              "  </tbody>\n",
              "</table>\n",
              "</div><br><label><b>dtype:</b> object</label>"
            ]
          },
          "metadata": {},
          "execution_count": 10
        }
      ]
    },
    {
      "cell_type": "markdown",
      "source": [
        "\n",
        "**Purpose:**\n",
        "This line creates a Python list named food that contains three string elements: 'Pizza', 'Burger', and 'Sushi'.\n",
        "\n",
        "**List:**\n",
        " A list is a collection of items that are ordered and can be modified after being created."
      ],
      "metadata": {
        "id": "0Wu_QPvjCS0S"
      }
    },
    {
      "cell_type": "code",
      "source": [
        "type(p_food)"
      ],
      "metadata": {
        "colab": {
          "base_uri": "https://localhost:8080/",
          "height": 203
        },
        "id": "dlBfMntmCgsb",
        "outputId": "b6d27599-e5ad-47a6-a381-5bd13dcad85f"
      },
      "execution_count": 12,
      "outputs": [
        {
          "output_type": "execute_result",
          "data": {
            "text/plain": [
              "pandas.core.series.Series"
            ],
            "text/html": [
              "<div style=\"max-width:800px; border: 1px solid var(--colab-border-color);\"><style>\n",
              "      pre.function-repr-contents {\n",
              "        overflow-x: auto;\n",
              "        padding: 8px 12px;\n",
              "        max-height: 500px;\n",
              "      }\n",
              "\n",
              "      pre.function-repr-contents.function-repr-contents-collapsed {\n",
              "        cursor: pointer;\n",
              "        max-height: 100px;\n",
              "      }\n",
              "    </style>\n",
              "    <pre style=\"white-space: initial; background:\n",
              "         var(--colab-secondary-surface-color); padding: 8px 12px;\n",
              "         border-bottom: 1px solid var(--colab-border-color);\"><b>pandas.core.series.Series</b><br/>def __init__(data=None, index=None, dtype: Dtype | None=None, name=None, copy: bool | None=None, fastpath: bool=False) -&gt; None</pre><pre class=\"function-repr-contents function-repr-contents-collapsed\" style=\"\"><a class=\"filepath\" style=\"display:none\" href=\"#\">/usr/local/lib/python3.10/dist-packages/pandas/core/series.py</a>One-dimensional ndarray with axis labels (including time series).\n",
              "\n",
              "Labels need not be unique but must be a hashable type. The object\n",
              "supports both integer- and label-based indexing and provides a host of\n",
              "methods for performing operations involving the index. Statistical\n",
              "methods from ndarray have been overridden to automatically exclude\n",
              "missing data (currently represented as NaN).\n",
              "\n",
              "Operations between Series (+, -, /, \\*, \\*\\*) align values based on their\n",
              "associated index values-- they need not be the same length. The result\n",
              "index will be the sorted union of the two indexes.\n",
              "\n",
              "Parameters\n",
              "----------\n",
              "data : array-like, Iterable, dict, or scalar value\n",
              "    Contains data stored in Series. If data is a dict, argument order is\n",
              "    maintained.\n",
              "index : array-like or Index (1d)\n",
              "    Values must be hashable and have the same length as `data`.\n",
              "    Non-unique index values are allowed. Will default to\n",
              "    RangeIndex (0, 1, 2, ..., n) if not provided. If data is dict-like\n",
              "    and index is None, then the keys in the data are used as the index. If the\n",
              "    index is not None, the resulting Series is reindexed with the index values.\n",
              "dtype : str, numpy.dtype, or ExtensionDtype, optional\n",
              "    Data type for the output Series. If not specified, this will be\n",
              "    inferred from `data`.\n",
              "    See the :ref:`user guide &lt;basics.dtypes&gt;` for more usages.\n",
              "name : Hashable, default None\n",
              "    The name to give to the Series.\n",
              "copy : bool, default False\n",
              "    Copy input data. Only affects Series or 1d ndarray input. See examples.\n",
              "\n",
              "Notes\n",
              "-----\n",
              "Please reference the :ref:`User Guide &lt;basics.series&gt;` for more information.\n",
              "\n",
              "Examples\n",
              "--------\n",
              "Constructing Series from a dictionary with an Index specified\n",
              "\n",
              "&gt;&gt;&gt; d = {&#x27;a&#x27;: 1, &#x27;b&#x27;: 2, &#x27;c&#x27;: 3}\n",
              "&gt;&gt;&gt; ser = pd.Series(data=d, index=[&#x27;a&#x27;, &#x27;b&#x27;, &#x27;c&#x27;])\n",
              "&gt;&gt;&gt; ser\n",
              "a   1\n",
              "b   2\n",
              "c   3\n",
              "dtype: int64\n",
              "\n",
              "The keys of the dictionary match with the Index values, hence the Index\n",
              "values have no effect.\n",
              "\n",
              "&gt;&gt;&gt; d = {&#x27;a&#x27;: 1, &#x27;b&#x27;: 2, &#x27;c&#x27;: 3}\n",
              "&gt;&gt;&gt; ser = pd.Series(data=d, index=[&#x27;x&#x27;, &#x27;y&#x27;, &#x27;z&#x27;])\n",
              "&gt;&gt;&gt; ser\n",
              "x   NaN\n",
              "y   NaN\n",
              "z   NaN\n",
              "dtype: float64\n",
              "\n",
              "Note that the Index is first build with the keys from the dictionary.\n",
              "After this the Series is reindexed with the given Index values, hence we\n",
              "get all NaN as a result.\n",
              "\n",
              "Constructing Series from a list with `copy=False`.\n",
              "\n",
              "&gt;&gt;&gt; r = [1, 2]\n",
              "&gt;&gt;&gt; ser = pd.Series(r, copy=False)\n",
              "&gt;&gt;&gt; ser.iloc[0] = 999\n",
              "&gt;&gt;&gt; r\n",
              "[1, 2]\n",
              "&gt;&gt;&gt; ser\n",
              "0    999\n",
              "1      2\n",
              "dtype: int64\n",
              "\n",
              "Due to input data type the Series has a `copy` of\n",
              "the original data even though `copy=False`, so\n",
              "the data is unchanged.\n",
              "\n",
              "Constructing Series from a 1d ndarray with `copy=False`.\n",
              "\n",
              "&gt;&gt;&gt; r = np.array([1, 2])\n",
              "&gt;&gt;&gt; ser = pd.Series(r, copy=False)\n",
              "&gt;&gt;&gt; ser.iloc[0] = 999\n",
              "&gt;&gt;&gt; r\n",
              "array([999,   2])\n",
              "&gt;&gt;&gt; ser\n",
              "0    999\n",
              "1      2\n",
              "dtype: int64\n",
              "\n",
              "Due to input data type the Series has a `view` on\n",
              "the original data, so\n",
              "the data is changed as well.</pre>\n",
              "      <script>\n",
              "      if (google.colab.kernel.accessAllowed && google.colab.files && google.colab.files.view) {\n",
              "        for (const element of document.querySelectorAll('.filepath')) {\n",
              "          element.style.display = 'block'\n",
              "          element.onclick = (event) => {\n",
              "            event.preventDefault();\n",
              "            event.stopPropagation();\n",
              "            google.colab.files.view(element.textContent, 245);\n",
              "          };\n",
              "        }\n",
              "      }\n",
              "      for (const element of document.querySelectorAll('.function-repr-contents')) {\n",
              "        element.onclick = (event) => {\n",
              "          event.preventDefault();\n",
              "          event.stopPropagation();\n",
              "          element.classList.toggle('function-repr-contents-collapsed');\n",
              "        };\n",
              "      }\n",
              "      </script>\n",
              "      </div>"
            ]
          },
          "metadata": {},
          "execution_count": 12
        }
      ]
    },
    {
      "cell_type": "markdown",
      "source": [
        "The line type(p_food) is used to check the data type of the variable p_food. Since p_food is a Pandas Series, the output of this line will indicate that."
      ],
      "metadata": {
        "id": "XW7XWtfbGjHa"
      }
    },
    {
      "cell_type": "code",
      "source": [
        "p_food[2]"
      ],
      "metadata": {
        "colab": {
          "base_uri": "https://localhost:8080/",
          "height": 36
        },
        "id": "BF34KLCsGrWa",
        "outputId": "69ab40cd-0384-4477-cba3-d5343328c35d"
      },
      "execution_count": 13,
      "outputs": [
        {
          "output_type": "execute_result",
          "data": {
            "text/plain": [
              "'Sushi'"
            ],
            "application/vnd.google.colaboratory.intrinsic+json": {
              "type": "string"
            }
          },
          "metadata": {},
          "execution_count": 13
        }
      ]
    },
    {
      "cell_type": "markdown",
      "source": [
        "\n",
        "\n",
        "*   **Pandas Series indexing:** Like Python lists, Pandas Series are zero-indexed, meaning the first element is at index 0, the second at index 1, and so on.\n",
        "*   In this case, p_food[2] will return the value located at index 2 in the p_food Series.\n",
        "\n",
        "Given your initial code where p_food was created from the list\n",
        "['Pizza', 'Burger', 'Sushi'], the element at index 2 is 'Sushi'.\n",
        "\n"
      ],
      "metadata": {
        "id": "sMFrvwY-HEXC"
      }
    },
    {
      "cell_type": "code",
      "source": [
        "food = ['Pizza', 'Burger', None]\n",
        "p_food = pd.Series(food)\n",
        "p_food\n"
      ],
      "metadata": {
        "colab": {
          "base_uri": "https://localhost:8080/",
          "height": 178
        },
        "id": "We1uFHukHzZY",
        "outputId": "8c084bef-90c4-4532-8142-8849205371b5"
      },
      "execution_count": 14,
      "outputs": [
        {
          "output_type": "execute_result",
          "data": {
            "text/plain": [
              "0     Pizza\n",
              "1    Burger\n",
              "2      None\n",
              "dtype: object"
            ],
            "text/html": [
              "<div>\n",
              "<style scoped>\n",
              "    .dataframe tbody tr th:only-of-type {\n",
              "        vertical-align: middle;\n",
              "    }\n",
              "\n",
              "    .dataframe tbody tr th {\n",
              "        vertical-align: top;\n",
              "    }\n",
              "\n",
              "    .dataframe thead th {\n",
              "        text-align: right;\n",
              "    }\n",
              "</style>\n",
              "<table border=\"1\" class=\"dataframe\">\n",
              "  <thead>\n",
              "    <tr style=\"text-align: right;\">\n",
              "      <th></th>\n",
              "      <th>0</th>\n",
              "    </tr>\n",
              "  </thead>\n",
              "  <tbody>\n",
              "    <tr>\n",
              "      <th>0</th>\n",
              "      <td>Pizza</td>\n",
              "    </tr>\n",
              "    <tr>\n",
              "      <th>1</th>\n",
              "      <td>Burger</td>\n",
              "    </tr>\n",
              "    <tr>\n",
              "      <th>2</th>\n",
              "      <td>None</td>\n",
              "    </tr>\n",
              "  </tbody>\n",
              "</table>\n",
              "</div><br><label><b>dtype:</b> object</label>"
            ]
          },
          "metadata": {},
          "execution_count": 14
        }
      ]
    },
    {
      "cell_type": "markdown",
      "source": [
        "\n",
        "\n",
        "*   ***Purpose:*** This creates a Python list named food with three elements: 'Pizza', 'Burger', and None.\n",
        "*   ***None:*** In Python, None is a special constant that represents the absence of a value or a null value. It is often used as a placeholder.\n",
        "\n",
        "\n",
        "*   ***Values ('Pizza', 'Burger', NaN):*** 'Pizza' and 'Burger' are regular string values, and None is displayed as NaN, which stands for \"Not a Number\" and is used to represent missing values in Pandas.\n",
        " *   ***dtype:*** object: This indicates that the Series contains object types (strings and NaN).\n",
        "\n",
        "\n",
        "\n"
      ],
      "metadata": {
        "id": "AUQxEvYtJUET"
      }
    },
    {
      "cell_type": "code",
      "source": [
        "food = {\n",
        "    'f1': 'Pizza',\n",
        "    'f2': 'Burger',\n",
        "    'f3': None\n",
        "}\n",
        "p_food = pd.Series(food)\n",
        "p_food"
      ],
      "metadata": {
        "colab": {
          "base_uri": "https://localhost:8080/",
          "height": 178
        },
        "id": "nGJVKKZ-Kft4",
        "outputId": "7417f59b-cb87-4404-e779-8dbd946f04b7"
      },
      "execution_count": 15,
      "outputs": [
        {
          "output_type": "execute_result",
          "data": {
            "text/plain": [
              "f1     Pizza\n",
              "f2    Burger\n",
              "f3      None\n",
              "dtype: object"
            ],
            "text/html": [
              "<div>\n",
              "<style scoped>\n",
              "    .dataframe tbody tr th:only-of-type {\n",
              "        vertical-align: middle;\n",
              "    }\n",
              "\n",
              "    .dataframe tbody tr th {\n",
              "        vertical-align: top;\n",
              "    }\n",
              "\n",
              "    .dataframe thead th {\n",
              "        text-align: right;\n",
              "    }\n",
              "</style>\n",
              "<table border=\"1\" class=\"dataframe\">\n",
              "  <thead>\n",
              "    <tr style=\"text-align: right;\">\n",
              "      <th></th>\n",
              "      <th>0</th>\n",
              "    </tr>\n",
              "  </thead>\n",
              "  <tbody>\n",
              "    <tr>\n",
              "      <th>f1</th>\n",
              "      <td>Pizza</td>\n",
              "    </tr>\n",
              "    <tr>\n",
              "      <th>f2</th>\n",
              "      <td>Burger</td>\n",
              "    </tr>\n",
              "    <tr>\n",
              "      <th>f3</th>\n",
              "      <td>None</td>\n",
              "    </tr>\n",
              "  </tbody>\n",
              "</table>\n",
              "</div><br><label><b>dtype:</b> object</label>"
            ]
          },
          "metadata": {},
          "execution_count": 15
        }
      ]
    },
    {
      "cell_type": "markdown",
      "source": [
        "\n",
        "\n",
        "*   ***Purpose:*** This line creates a Python dictionary called food. The dictionary has three key-value pairs:\n",
        " *   'f1' is the key for the value 'Pizza'.\n",
        "     'f2' is the key for the value 'Burger'.\n",
        "\n",
        "  *   'f2' is the key for the value 'Burger'.\n",
        "  *   'f3' is the key for the value None (which represents a missing value).\n",
        "\n",
        "\n",
        "     \n",
        "\n",
        "*   ***Dictionary:*** A dictionary in Python is a collection of key-value pairs, where each key is unique.\n",
        "\n",
        "\n",
        "\n",
        "\n"
      ],
      "metadata": {
        "id": "eNvk723QK9Yp"
      }
    },
    {
      "cell_type": "code",
      "source": [
        "p_food.index"
      ],
      "metadata": {
        "colab": {
          "base_uri": "https://localhost:8080/"
        },
        "id": "gMQm7z6ULkhK",
        "outputId": "8d0525f6-e12a-412b-dd62-4242af7ac4f5"
      },
      "execution_count": 16,
      "outputs": [
        {
          "output_type": "execute_result",
          "data": {
            "text/plain": [
              "Index(['f1', 'f2', 'f3'], dtype='object')"
            ]
          },
          "metadata": {},
          "execution_count": 16
        }
      ]
    },
    {
      "cell_type": "markdown",
      "source": [
        "## **Explanation of the Output:**\n",
        "\n",
        "\n",
        "*   The output is an Index object that contains the labels ['f1', 'f2', 'f3'], which were originally the keys of the dictionary.\n",
        "*   ***Index Type:*** The data type of the index is object, as the index contains string labels ('f1', 'f2', and 'f3').\n",
        "\n"
      ],
      "metadata": {
        "id": "BUykwqTzMeTJ"
      }
    },
    {
      "cell_type": "code",
      "source": [
        "p_food.values"
      ],
      "metadata": {
        "colab": {
          "base_uri": "https://localhost:8080/"
        },
        "id": "Ee5fOVIoMvW4",
        "outputId": "5f295259-52a6-415f-97a1-16dc1deea38a"
      },
      "execution_count": 17,
      "outputs": [
        {
          "output_type": "execute_result",
          "data": {
            "text/plain": [
              "array(['Pizza', 'Burger', None], dtype=object)"
            ]
          },
          "metadata": {},
          "execution_count": 17
        }
      ]
    },
    {
      "cell_type": "markdown",
      "source": [
        "**p_food.values:** This command retrieves the values of the Pandas Series p_food as a NumPy array. The values are the elements of the Series without the index."
      ],
      "metadata": {
        "id": "QMT--mByRw_W"
      }
    },
    {
      "cell_type": "code",
      "source": [
        "p_food = pd.Series(['Pizza', 'Burger', 'Sushi'], index=['f1', 'f2', 'f3'])\n",
        "p_food\n"
      ],
      "metadata": {
        "colab": {
          "base_uri": "https://localhost:8080/",
          "height": 178
        },
        "id": "-X_vXa4WSD08",
        "outputId": "832da519-3dc7-4902-d92c-280c46a94c5f"
      },
      "execution_count": 19,
      "outputs": [
        {
          "output_type": "execute_result",
          "data": {
            "text/plain": [
              "f1     Pizza\n",
              "f2    Burger\n",
              "f3     Sushi\n",
              "dtype: object"
            ],
            "text/html": [
              "<div>\n",
              "<style scoped>\n",
              "    .dataframe tbody tr th:only-of-type {\n",
              "        vertical-align: middle;\n",
              "    }\n",
              "\n",
              "    .dataframe tbody tr th {\n",
              "        vertical-align: top;\n",
              "    }\n",
              "\n",
              "    .dataframe thead th {\n",
              "        text-align: right;\n",
              "    }\n",
              "</style>\n",
              "<table border=\"1\" class=\"dataframe\">\n",
              "  <thead>\n",
              "    <tr style=\"text-align: right;\">\n",
              "      <th></th>\n",
              "      <th>0</th>\n",
              "    </tr>\n",
              "  </thead>\n",
              "  <tbody>\n",
              "    <tr>\n",
              "      <th>f1</th>\n",
              "      <td>Pizza</td>\n",
              "    </tr>\n",
              "    <tr>\n",
              "      <th>f2</th>\n",
              "      <td>Burger</td>\n",
              "    </tr>\n",
              "    <tr>\n",
              "      <th>f3</th>\n",
              "      <td>Sushi</td>\n",
              "    </tr>\n",
              "  </tbody>\n",
              "</table>\n",
              "</div><br><label><b>dtype:</b> object</label>"
            ]
          },
          "metadata": {},
          "execution_count": 19
        }
      ]
    },
    {
      "cell_type": "markdown",
      "source": [
        "\n",
        "\n",
        "*   **pd.Series(['Pizza', 'Burger', 'Sushi'], index=['f1', 'f2', 'f3']):**\n",
        "\n",
        " *    This creates a Pandas Series from a list of food items ['Pizza', 'Burger', 'Sushi'].\n",
        " *   You are explicitly defining the index for each value using the list ['f1', 'f2', 'f3'].\n",
        " *   The resulting Series will associate 'Pizza' with the index 'f1', 'Burger' with 'f2', and 'Sushi' with 'f3'.\n",
        "\n",
        "\n",
        "\n",
        "\n",
        "\n",
        "\n",
        "\n"
      ],
      "metadata": {
        "id": "71SjfAN-TSIF"
      }
    },
    {
      "cell_type": "code",
      "source": [
        "p_food['f1']\n"
      ],
      "metadata": {
        "colab": {
          "base_uri": "https://localhost:8080/",
          "height": 36
        },
        "id": "odHch6ZlUFqT",
        "outputId": "7960d803-5312-45b2-b3c4-345e34600143"
      },
      "execution_count": 20,
      "outputs": [
        {
          "output_type": "execute_result",
          "data": {
            "text/plain": [
              "'Pizza'"
            ],
            "application/vnd.google.colaboratory.intrinsic+json": {
              "type": "string"
            }
          },
          "metadata": {},
          "execution_count": 20
        }
      ]
    },
    {
      "cell_type": "markdown",
      "source": [
        "## **Explanation of the Output:**\n",
        "\n",
        "\n",
        "*   The value associated with index 'f1' in the p_food Series is 'Pizza'.\n",
        "\n",
        "\n"
      ],
      "metadata": {
        "id": "Dc8JeXKgUXBV"
      }
    },
    {
      "cell_type": "code",
      "source": [
        "p_food.iloc[2]\n"
      ],
      "metadata": {
        "colab": {
          "base_uri": "https://localhost:8080/",
          "height": 36
        },
        "id": "51EW7yDZUgGU",
        "outputId": "8c166156-8c07-4b7b-fd37-44b08c43d7f8"
      },
      "execution_count": 21,
      "outputs": [
        {
          "output_type": "execute_result",
          "data": {
            "text/plain": [
              "'Sushi'"
            ],
            "application/vnd.google.colaboratory.intrinsic+json": {
              "type": "string"
            }
          },
          "metadata": {},
          "execution_count": 21
        }
      ]
    },
    {
      "cell_type": "markdown",
      "source": [
        "## **Explanation:**\n",
        "\n",
        "\n",
        "*   **p_food.iloc[2]:** The .iloc[] function is used to access a value by its **positional index** (i.e., the position in the Series, regardless of the custom labels).\n",
        "*   In this case, p_food.iloc[2] is accessing the element at position 2 (third position, since indexing starts from 0).\n",
        "\n",
        "In the food example, the **p_food** Series was created from the list **['Pizza', 'Burger', 'Sushi']**, with positional indices 0, 1, and 2. So, position **2** corresponds to the value **'Sushi'**.\n",
        "\n",
        "\n",
        "\n",
        "\n",
        "\n",
        "\n",
        "\n"
      ],
      "metadata": {
        "id": "HoC4IX-uVwK6"
      }
    },
    {
      "cell_type": "code",
      "source": [
        "p_food.loc['f1']"
      ],
      "metadata": {
        "colab": {
          "base_uri": "https://localhost:8080/",
          "height": 36
        },
        "id": "0pO0YAQvZMY3",
        "outputId": "403f31bb-de8e-45b1-e305-5f3baedb8220"
      },
      "execution_count": 22,
      "outputs": [
        {
          "output_type": "execute_result",
          "data": {
            "text/plain": [
              "'Pizza'"
            ],
            "application/vnd.google.colaboratory.intrinsic+json": {
              "type": "string"
            }
          },
          "metadata": {},
          "execution_count": 22
        }
      ]
    },
    {
      "cell_type": "markdown",
      "source": [
        "## **Explanation:**\n",
        "\n",
        "\n",
        "*   **p_food.loc[ 'f1' ]:** The **.loc[ ]** function is used to access a value by its **label** (the custom index, not the positional index).\n",
        "\n",
        "*   In the \"food\" example, the Series **p_food** was created with custom indices **['f1', 'f2', 'f3']**. So, **.loc['f1']** retrieves the value associated with the label **'f1'** which corresponds to the value **'Pizza'**.\n",
        "\n"
      ],
      "metadata": {
        "id": "yMA5ZdOsdB7L"
      }
    },
    {
      "cell_type": "code",
      "source": [
        "for item in p_food:\n",
        "    print('Delicious ' + str(item))\n"
      ],
      "metadata": {
        "colab": {
          "base_uri": "https://localhost:8080/"
        },
        "id": "Dw6S_oWweMXB",
        "outputId": "b459e3c2-36fe-487c-8707-4f597973a0bd"
      },
      "execution_count": 23,
      "outputs": [
        {
          "output_type": "stream",
          "name": "stdout",
          "text": [
            "Delicious Pizza\n",
            "Delicious Burger\n",
            "Delicious Sushi\n"
          ]
        }
      ]
    },
    {
      "cell_type": "markdown",
      "source": [
        "## **Explanation:**\n",
        "\n",
        "\n",
        "*   **For Loop:** The loop iterates over each item in the **p_food** Pandas Series.\n",
        "\n",
        "*   **print('Delicious ' + str(item)):** For each item, it prints the string **'Delicious '** followed by the item (converted to a string using **str(item)**).\n",
        "\n"
      ],
      "metadata": {
        "id": "Lnz6pZgqiLJB"
      }
    },
    {
      "cell_type": "code",
      "source": [
        "import numpy as np\n"
      ],
      "metadata": {
        "id": "qIWDAlu6i4tm"
      },
      "execution_count": 25,
      "outputs": []
    },
    {
      "cell_type": "code",
      "source": [
        "food_prices = [12.5, 8.0, 15.3]\n",
        "p_food_prices = pd.Series(food_prices)\n",
        "np.sum(p_food_prices)\n"
      ],
      "metadata": {
        "colab": {
          "base_uri": "https://localhost:8080/"
        },
        "id": "sZcL1_D9jfKO",
        "outputId": "514610b3-ef9a-477c-c47c-45ccb119fd3c"
      },
      "execution_count": 26,
      "outputs": [
        {
          "output_type": "execute_result",
          "data": {
            "text/plain": [
              "35.8"
            ]
          },
          "metadata": {},
          "execution_count": 26
        }
      ]
    },
    {
      "cell_type": "markdown",
      "source": [
        "\n",
        "\n",
        "* This line creates a list named **food_prices** that contains three numerical values representing the prices of different food items.\n",
        "\n",
        "*   **pd.Series(food_prices):** This converts the list **food_prices** into a Pandas Series. The Series contains the same numerical values **[12.5, 8.0, 15.3]** but now with default indexing (0, 1, 2).\n",
        "\n",
        "\n",
        "\n",
        "*   **np.sum():** This function, from the NumPy library, calculates the sum of all the values in the **p_food_prices** Series.\n",
        "\n",
        "\n",
        "*   It will add **12.5 + 8.0 + 15.3.**\n",
        "\n",
        "\n",
        "\n",
        "\n",
        "\n",
        "\n"
      ],
      "metadata": {
        "id": "T7CmdFwfjhQu"
      }
    },
    {
      "cell_type": "code",
      "source": [
        "food = [12.5, 8.0, 'Burger']\n",
        "p_food = pd.Series(food)\n",
        "p_food\n"
      ],
      "metadata": {
        "colab": {
          "base_uri": "https://localhost:8080/",
          "height": 178
        },
        "id": "IS4DNTt4kcD5",
        "outputId": "2e346eda-af4c-4a10-d195-4e9870ddb076"
      },
      "execution_count": 27,
      "outputs": [
        {
          "output_type": "execute_result",
          "data": {
            "text/plain": [
              "0      12.5\n",
              "1       8.0\n",
              "2    Burger\n",
              "dtype: object"
            ],
            "text/html": [
              "<div>\n",
              "<style scoped>\n",
              "    .dataframe tbody tr th:only-of-type {\n",
              "        vertical-align: middle;\n",
              "    }\n",
              "\n",
              "    .dataframe tbody tr th {\n",
              "        vertical-align: top;\n",
              "    }\n",
              "\n",
              "    .dataframe thead th {\n",
              "        text-align: right;\n",
              "    }\n",
              "</style>\n",
              "<table border=\"1\" class=\"dataframe\">\n",
              "  <thead>\n",
              "    <tr style=\"text-align: right;\">\n",
              "      <th></th>\n",
              "      <th>0</th>\n",
              "    </tr>\n",
              "  </thead>\n",
              "  <tbody>\n",
              "    <tr>\n",
              "      <th>0</th>\n",
              "      <td>12.5</td>\n",
              "    </tr>\n",
              "    <tr>\n",
              "      <th>1</th>\n",
              "      <td>8.0</td>\n",
              "    </tr>\n",
              "    <tr>\n",
              "      <th>2</th>\n",
              "      <td>Burger</td>\n",
              "    </tr>\n",
              "  </tbody>\n",
              "</table>\n",
              "</div><br><label><b>dtype:</b> object</label>"
            ]
          },
          "metadata": {},
          "execution_count": 27
        }
      ]
    },
    {
      "cell_type": "markdown",
      "source": [
        "\n",
        "\n",
        "*   This line creates a list named food that contains two numerical values** (12.5, 8.0)** and a string **('Burger')**.\n",
        "\n",
        "*   Mixing data types in the same list (numbers and strings) is allowed in Python lists.\n",
        "\n",
        "\n",
        "*   **dtype: object:** Since the Series contains mixed data types (both numbers and a string), Pandas automatically sets the data type of the Series to **object.**\n",
        "\n",
        "\n",
        "\n",
        "\n"
      ],
      "metadata": {
        "id": "E01o9ai1l6oI"
      }
    },
    {
      "cell_type": "code",
      "source": [
        "for index, item in p_food.items():\n",
        "    print('Delicious ' + str(item) + ' ... index is ' + str(index))\n"
      ],
      "metadata": {
        "colab": {
          "base_uri": "https://localhost:8080/"
        },
        "id": "8EXhzrBOmyrs",
        "outputId": "c2a3e118-dfdc-4eff-faae-3100b6a3e59c"
      },
      "execution_count": 30,
      "outputs": [
        {
          "output_type": "stream",
          "name": "stdout",
          "text": [
            "Delicious 12.5 ... index is 0\n",
            "Delicious 8.0 ... index is 1\n",
            "Delicious Burger ... index is 2\n"
          ]
        }
      ]
    }
  ]
}